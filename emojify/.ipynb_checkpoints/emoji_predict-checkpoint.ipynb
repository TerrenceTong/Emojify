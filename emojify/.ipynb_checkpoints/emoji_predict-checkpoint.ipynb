{
 "cells": [
  {
   "cell_type": "markdown",
   "metadata": {},
   "source": [
    "# Emoji 表情生成器"
   ]
  },
  {
   "cell_type": "markdown",
   "metadata": {},
   "source": [
    "## 导入使用的库"
   ]
  },
  {
   "cell_type": "code",
   "execution_count": 11,
   "metadata": {},
   "outputs": [],
   "source": [
    "import random\n",
    "import twitter\n",
    "import emoji\n",
    "# import itertools\n",
    "import pandas as pd\n",
    "from itertools import chain\n",
    "from keras.preprocessing.sequence import pad_sequences\n",
    "import numpy as np\n",
    "#from sklearn.model_selection import train_test_split\n",
    "from keras import Sequential, optimizers, regularizers\n",
    "from keras.preprocessing.text import Tokenizer\n",
    "from keras.preprocessing.sequence import pad_sequences\n",
    "from keras.preprocessing.text import one_hot\n",
    "from keras.utils import to_categorical\n",
    "import keras.callbacks\n",
    "from keras.backend import clear_session\n",
    "#import json\n",
    "\n",
    "import os\n",
    "# import nb_utils\n",
    "from keras.layers import Input, Conv1D, MaxPooling1D, Flatten, Dense, Dropout, LSTM, Embedding, GlobalMaxPooling1D#, Merge \n",
    "from keras.models import Model\n",
    "from keras.layers.merge import Concatenate, Average\n",
    "\n",
    "# from gensim.models import Word2Vec"
   ]
  },
  {
   "cell_type": "markdown",
   "metadata": {},
   "source": [
    "## 对数据集进行统计分析"
   ]
  },
  {
   "cell_type": "code",
   "execution_count": 3,
   "metadata": {},
   "outputs": [
    {
     "name": "stderr",
     "output_type": "stream",
     "text": [
      "/home/tong/anaconda3/envs/flask/lib/python3.5/site-packages/IPython/core/interactiveshell.py:2785: DtypeWarning: Columns (0) have mixed types. Specify dtype option on import or set low_memory=False.\n",
      "  interactivity=interactivity, compiler=compiler, result=result)\n"
     ]
    },
    {
     "data": {
      "text/plain": [
       "😂        84134\n",
       "💓        67647\n",
       "😁        31773\n",
       "😭        28812\n",
       "😍        23998\n",
       "emoji    16415\n",
       "🔥        15568\n",
       "😔         8487\n",
       "🙏         7845\n",
       "😩         7839\n",
       "🤔         7383\n",
       "😎         7245\n",
       "👀         5923\n",
       "👏         5669\n",
       "🙄         5466\n",
       "💀         5268\n",
       "😫         5255\n",
       "🙌         5224\n",
       "🎉         5051\n",
       "😘         4719\n",
       "💯         4661\n",
       "😢         4228\n",
       "👍         4018\n",
       "😜         4012\n",
       "👇         3816\n",
       "🚨         3652\n",
       "😐         3519\n",
       "💪         3210\n",
       "😳         3158\n",
       "‼         3138\n",
       "         ...  \n",
       "🗜            2\n",
       "📤            1\n",
       "🕟            1\n",
       "🚋            1\n",
       "🀄            1\n",
       "🧘            1\n",
       "🏬            1\n",
       "🕠            1\n",
       "🤼            1\n",
       "🕍            1\n",
       "🚟            1\n",
       "🚳            1\n",
       "➗            1\n",
       "🕦            1\n",
       "㊗            1\n",
       "📏            1\n",
       "🕜            1\n",
       "🏣            1\n",
       "🚇            1\n",
       "⚱            1\n",
       "🈲            1\n",
       "🈵            1\n",
       "🧙            1\n",
       "🛢            1\n",
       "👝            1\n",
       "◀            1\n",
       "🈳            1\n",
       "🗃            1\n",
       "🤾            1\n",
       "🔡            1\n",
       "Name: emoji, Length: 1048, dtype: int64"
      ]
     },
     "execution_count": 3,
     "metadata": {},
     "output_type": "execute_result"
    }
   ],
   "source": [
    "#读入数据集\n",
    "all_tweets = pd.read_csv('data/emojis_homemade1.csv')\n",
    "#对数据集中的表情进行统计\n",
    "all_tweets['emoji'].value_counts()"
   ]
  },
  {
   "cell_type": "code",
   "execution_count": 4,
   "metadata": {},
   "outputs": [
    {
     "data": {
      "text/plain": [
       "(729680, 3)"
      ]
     },
     "execution_count": 4,
     "metadata": {},
     "output_type": "execute_result"
    }
   ],
   "source": [
    "#输出数据集的shape\n",
    "all_tweets.shape"
   ]
  },
  {
   "cell_type": "code",
   "execution_count": 5,
   "metadata": {},
   "outputs": [
    {
     "data": {
      "text/html": [
       "<div>\n",
       "<style scoped>\n",
       "    .dataframe tbody tr th:only-of-type {\n",
       "        vertical-align: middle;\n",
       "    }\n",
       "\n",
       "    .dataframe tbody tr th {\n",
       "        vertical-align: top;\n",
       "    }\n",
       "\n",
       "    .dataframe thead th {\n",
       "        text-align: right;\n",
       "    }\n",
       "</style>\n",
       "<table border=\"1\" class=\"dataframe\">\n",
       "  <thead>\n",
       "    <tr style=\"text-align: right;\">\n",
       "      <th></th>\n",
       "      <th>Unnamed: 0</th>\n",
       "      <th>text</th>\n",
       "      <th>emoji</th>\n",
       "    </tr>\n",
       "  </thead>\n",
       "  <tbody>\n",
       "    <tr>\n",
       "      <th>0</th>\n",
       "      <td>0</td>\n",
       "      <td>RT @mydear_bangtan: [VID] 181023 - Foi adicion...</td>\n",
       "      <td>©</td>\n",
       "    </tr>\n",
       "    <tr>\n",
       "      <th>1</th>\n",
       "      <td>1</td>\n",
       "      <td>RT @WuYiFan_KrisBar: 181023 Kris Wu Studio upd...</td>\n",
       "      <td>🌟</td>\n",
       "    </tr>\n",
       "    <tr>\n",
       "      <th>2</th>\n",
       "      <td>2</td>\n",
       "      <td>RT @TrendsPrabhas: Now you are watching Indian...</td>\n",
       "      <td>😎</td>\n",
       "    </tr>\n",
       "    <tr>\n",
       "      <th>3</th>\n",
       "      <td>3</td>\n",
       "      <td>dats for keeps</td>\n",
       "      <td>💓</td>\n",
       "    </tr>\n",
       "    <tr>\n",
       "      <th>4</th>\n",
       "      <td>4</td>\n",
       "      <td>RT @xruiztru: WHO ARMS THE SAUDIS?\\n\\n  🇺🇸US 5...</td>\n",
       "      <td>🏳</td>\n",
       "    </tr>\n",
       "    <tr>\n",
       "      <th>5</th>\n",
       "      <td>5</td>\n",
       "      <td>RT @xxxfreaknasty2: interracial couple go at i...</td>\n",
       "      <td>🌝</td>\n",
       "    </tr>\n",
       "    <tr>\n",
       "      <th>6</th>\n",
       "      <td>6</td>\n",
       "      <td>@Eric_Deshaun Holy shit no I think.</td>\n",
       "      <td>😩</td>\n",
       "    </tr>\n",
       "    <tr>\n",
       "      <th>7</th>\n",
       "      <td>7</td>\n",
       "      <td>RT @fanmutuals: army, follow who retweet this</td>\n",
       "      <td>👑</td>\n",
       "    </tr>\n",
       "    <tr>\n",
       "      <th>8</th>\n",
       "      <td>8</td>\n",
       "      <td>RT @_Simplykpop: Simply K-Pop harddrive dump\\n...</td>\n",
       "      <td>😍</td>\n",
       "    </tr>\n",
       "    <tr>\n",
       "      <th>9</th>\n",
       "      <td>9</td>\n",
       "      <td>Happy birthday nellie @thelittlegend, hope you...</td>\n",
       "      <td>💓</td>\n",
       "    </tr>\n",
       "  </tbody>\n",
       "</table>\n",
       "</div>"
      ],
      "text/plain": [
       "  Unnamed: 0                                               text emoji\n",
       "0          0  RT @mydear_bangtan: [VID] 181023 - Foi adicion...     ©\n",
       "1          1  RT @WuYiFan_KrisBar: 181023 Kris Wu Studio upd...     🌟\n",
       "2          2  RT @TrendsPrabhas: Now you are watching Indian...     😎\n",
       "3          3                                    dats for keeps      💓\n",
       "4          4  RT @xruiztru: WHO ARMS THE SAUDIS?\\n\\n  🇺🇸US 5...     🏳\n",
       "5          5  RT @xxxfreaknasty2: interracial couple go at i...     🌝\n",
       "6          6               @Eric_Deshaun Holy shit no I think.      😩\n",
       "7          7     RT @fanmutuals: army, follow who retweet this      👑\n",
       "8          8  RT @_Simplykpop: Simply K-Pop harddrive dump\\n...     😍\n",
       "9          9  Happy birthday nellie @thelittlegend, hope you...     💓"
      ]
     },
     "execution_count": 5,
     "metadata": {},
     "output_type": "execute_result"
    }
   ],
   "source": [
    "#输出数据集的前10条数据\n",
    "all_tweets.head(10)"
   ]
  },
  {
   "cell_type": "code",
   "execution_count": 6,
   "metadata": {},
   "outputs": [
    {
     "data": {
      "text/plain": [
       "😂        84134\n",
       "💓        67647\n",
       "😁        31773\n",
       "😭        28812\n",
       "😍        23998\n",
       "emoji    16415\n",
       "🔥        15568\n",
       "😔         8487\n",
       "🙏         7845\n",
       "😩         7839\n",
       "🤔         7383\n",
       "😎         7245\n",
       "👀         5923\n",
       "👏         5669\n",
       "🙄         5466\n",
       "💀         5268\n",
       "😫         5255\n",
       "🙌         5224\n",
       "🎉         5051\n",
       "😘         4719\n",
       "💯         4661\n",
       "😢         4228\n",
       "👍         4018\n",
       "😜         4012\n",
       "👇         3816\n",
       "🚨         3652\n",
       "😐         3519\n",
       "💪         3210\n",
       "😳         3158\n",
       "‼         3138\n",
       "         ...  \n",
       "😈         2038\n",
       "➡         1932\n",
       "🎶         1921\n",
       "😋         1751\n",
       "🏆         1692\n",
       "😡         1591\n",
       "👑         1552\n",
       "💋         1446\n",
       "📸         1438\n",
       "📷         1434\n",
       "▶         1421\n",
       "🔴         1333\n",
       "🤤         1330\n",
       "🌹         1327\n",
       "⚡         1316\n",
       "✔         1279\n",
       "✈         1241\n",
       "✊         1184\n",
       "💦         1160\n",
       "😴         1149\n",
       "👊         1129\n",
       "🙈         1127\n",
       "💘         1065\n",
       "📽         1055\n",
       "❗         1054\n",
       "🔗         1044\n",
       "📍         1044\n",
       "🤯         1039\n",
       "⚠         1022\n",
       "🤞         1013\n",
       "Name: emoji, Length: 74, dtype: int64"
      ]
     },
     "execution_count": 6,
     "metadata": {},
     "output_type": "execute_result"
    }
   ],
   "source": [
    "#保留数据集中出现次数超过1000次的数据\n",
    "tweets = all_tweets.groupby('emoji').filter(lambda c:len(c) > 1000)\n",
    "#对数据集中的数据进行统计\n",
    "tweets['emoji'].value_counts()"
   ]
  },
  {
   "cell_type": "code",
   "execution_count": 7,
   "metadata": {},
   "outputs": [],
   "source": [
    "#chars中保存了tweets中的text\n",
    "chars = list(sorted(set(chain(*tweets['text']))))\n",
    "#将chars转换为idx\n",
    "char_to_idx = {ch: idx for idx, ch in enumerate(chars)}\n",
    "#求tweets中最长的文本长度\n",
    "max_sequence_len = max(len(x) for x in tweets['text'])\n",
    "#emojis保存了tweets中的表情\n",
    "emojis = list(sorted(set(tweets['emoji'])))\n",
    "#将emoji转换为idx\n",
    "emoji_to_idx = {em: idx for idx, em in enumerate(emojis)}\n",
    "#emojis[:10]"
   ]
  },
  {
   "cell_type": "markdown",
   "metadata": {},
   "source": [
    "## 数据集预处理\n",
    "* 将数据集划分为train集，dev集，test集\n",
    "* 对文本内容进行分词/one-hot编码\n",
    "* 对emoji表情进行one-hot编码"
   ]
  },
  {
   "cell_type": "code",
   "execution_count": 8,
   "metadata": {},
   "outputs": [
    {
     "name": "stdout",
     "output_type": "stream",
     "text": [
      "['©' '🌟' '😎' ... '😂' '😜' '😭']\n",
      "(461544,)\n",
      "[ 1. 13. 49. ... 45. 53. 58.]\n",
      "(461544,)\n",
      "[[0. 1. 0. ... 0. 0. 0.]\n",
      " [0. 0. 0. ... 0. 0. 0.]\n",
      " [0. 0. 0. ... 0. 0. 0.]\n",
      " ...\n",
      " [0. 0. 0. ... 0. 0. 0.]\n",
      " [0. 0. 0. ... 0. 0. 0.]\n",
      " [0. 0. 0. ... 0. 0. 0.]]\n",
      "(461544, 74)\n"
     ]
    }
   ],
   "source": [
    "#初始化train集\n",
    "train_tweets = tweets[0:680000]\n",
    "#初始化dev集\n",
    "dev_tweets = tweets[680000:700000]\n",
    "#初始化test集\n",
    "test_tweets = tweets[700000:720000]\n",
    "#x_train初始化为train中的文本信息\n",
    "x_train = train_tweets[\"text\"]\n",
    "#y_train初始化为train中的表情\n",
    "y_train = np.asarray(train_tweets[\"emoji\"])\n",
    "#x_dev初始化为dev中的文本信息\n",
    "x_dev = dev_tweets[\"text\"]\n",
    "#y_dev初始化为dev中的表情\n",
    "y_dev = np.asarray(dev_tweets[\"emoji\"])\n",
    "#x_test初始化为test中的文本信息\n",
    "x_test = test_tweets[\"text\"]\n",
    "#y_test初始化为test中的表情\n",
    "y_test = np.asarray(test_tweets[\"emoji\"])\n",
    "#将所有emoji数组拼接\n",
    "all_emojis = np.concatenate((y_train, y_dev, y_test), axis=0)\n",
    "print(all_emojis)\n",
    "print(all_emojis.shape)\n",
    "#对emoji表情进行编号\n",
    "emoji_to_idx = {em: idx for idx, em in enumerate(emojis)}\n",
    "#初始化all_emojis_idx矩阵\n",
    "all_emojis_idx = np.zeros(all_emojis.shape[0])\n",
    "#对emoji进行编号\n",
    "for i in range (all_emojis.shape[0]):\n",
    "    all_emojis_idx[i] = emoji_to_idx[all_emojis[i]]\n",
    "print(all_emojis_idx)\n",
    "print(all_emojis_idx.shape)\n",
    "#对all_emojis_idx矩阵进行one-hot编码\n",
    "all_emojis_one_hot = to_categorical (all_emojis_idx)\n",
    "print(all_emojis_one_hot)\n",
    "print(all_emojis_one_hot.shape)\n",
    "#对进行one-hot编码的数据重新划分train\n",
    "y_train_idx = all_emojis_one_hot[0:680000,:]\n",
    "#对进行one-hot编码的数据重新划分dev\n",
    "y_dev_idx = all_emojis_one_hot[680000:700000,:]\n",
    "#对进行one-hot编码的数据重新划分test\n",
    "y_test_idx = all_emojis_one_hot[700000:720000,:]"
   ]
  },
  {
   "cell_type": "code",
   "execution_count": null,
   "metadata": {},
   "outputs": [],
   "source": []
  },
  {
   "cell_type": "code",
   "execution_count": 10,
   "metadata": {},
   "outputs": [
    {
     "ename": "MemoryError",
     "evalue": "",
     "output_type": "error",
     "traceback": [
      "\u001b[0;31m---------------------------------------------------------------------------\u001b[0m",
      "\u001b[0;31mMemoryError\u001b[0m                               Traceback (most recent call last)",
      "\u001b[0;32m<ipython-input-10-32ca423ca30f>\u001b[0m in \u001b[0;36m<module>\u001b[0;34m()\u001b[0m\n\u001b[1;32m     11\u001b[0m \u001b[0;34m\u001b[0m\u001b[0m\n\u001b[1;32m     12\u001b[0m \u001b[0;31m#根据分词器的结果，对train数据集进行one-hot编码\u001b[0m\u001b[0;34m\u001b[0m\u001b[0;34m\u001b[0m\u001b[0m\n\u001b[0;32m---> 13\u001b[0;31m \u001b[0mx_train_one_hot\u001b[0m \u001b[0;34m=\u001b[0m \u001b[0mtokenizer\u001b[0m\u001b[0;34m.\u001b[0m\u001b[0mtexts_to_matrix\u001b[0m\u001b[0;34m(\u001b[0m\u001b[0mx_train\u001b[0m\u001b[0;34m,\u001b[0m \u001b[0mmode\u001b[0m\u001b[0;34m=\u001b[0m\u001b[0;34m'binary'\u001b[0m\u001b[0;34m)\u001b[0m\u001b[0;34m\u001b[0m\u001b[0m\n\u001b[0m\u001b[1;32m     14\u001b[0m \u001b[0;31m#根据分词器的结果，对dev数据集进行one-hot编码\u001b[0m\u001b[0;34m\u001b[0m\u001b[0;34m\u001b[0m\u001b[0m\n\u001b[1;32m     15\u001b[0m \u001b[0mx_dev_one_hot\u001b[0m \u001b[0;34m=\u001b[0m \u001b[0mtokenizer\u001b[0m\u001b[0;34m.\u001b[0m\u001b[0mtexts_to_matrix\u001b[0m\u001b[0;34m(\u001b[0m\u001b[0mx_dev\u001b[0m\u001b[0;34m,\u001b[0m \u001b[0mmode\u001b[0m\u001b[0;34m=\u001b[0m\u001b[0;34m'binary'\u001b[0m\u001b[0;34m)\u001b[0m\u001b[0;34m\u001b[0m\u001b[0m\n",
      "\u001b[0;32m~/anaconda3/envs/flask/lib/python3.5/site-packages/keras_preprocessing/text.py\u001b[0m in \u001b[0;36mtexts_to_matrix\u001b[0;34m(self, texts, mode)\u001b[0m\n\u001b[1;32m    374\u001b[0m         \"\"\"\n\u001b[1;32m    375\u001b[0m         \u001b[0msequences\u001b[0m \u001b[0;34m=\u001b[0m \u001b[0mself\u001b[0m\u001b[0;34m.\u001b[0m\u001b[0mtexts_to_sequences\u001b[0m\u001b[0;34m(\u001b[0m\u001b[0mtexts\u001b[0m\u001b[0;34m)\u001b[0m\u001b[0;34m\u001b[0m\u001b[0m\n\u001b[0;32m--> 376\u001b[0;31m         \u001b[0;32mreturn\u001b[0m \u001b[0mself\u001b[0m\u001b[0;34m.\u001b[0m\u001b[0msequences_to_matrix\u001b[0m\u001b[0;34m(\u001b[0m\u001b[0msequences\u001b[0m\u001b[0;34m,\u001b[0m \u001b[0mmode\u001b[0m\u001b[0;34m=\u001b[0m\u001b[0mmode\u001b[0m\u001b[0;34m)\u001b[0m\u001b[0;34m\u001b[0m\u001b[0m\n\u001b[0m\u001b[1;32m    377\u001b[0m \u001b[0;34m\u001b[0m\u001b[0m\n\u001b[1;32m    378\u001b[0m     \u001b[0;32mdef\u001b[0m \u001b[0msequences_to_matrix\u001b[0m\u001b[0;34m(\u001b[0m\u001b[0mself\u001b[0m\u001b[0;34m,\u001b[0m \u001b[0msequences\u001b[0m\u001b[0;34m,\u001b[0m \u001b[0mmode\u001b[0m\u001b[0;34m=\u001b[0m\u001b[0;34m'binary'\u001b[0m\u001b[0;34m)\u001b[0m\u001b[0;34m:\u001b[0m\u001b[0;34m\u001b[0m\u001b[0m\n",
      "\u001b[0;32m~/anaconda3/envs/flask/lib/python3.5/site-packages/keras_preprocessing/text.py\u001b[0m in \u001b[0;36msequences_to_matrix\u001b[0;34m(self, sequences, mode)\u001b[0m\n\u001b[1;32m    404\u001b[0m                              'before using tfidf mode.')\n\u001b[1;32m    405\u001b[0m \u001b[0;34m\u001b[0m\u001b[0m\n\u001b[0;32m--> 406\u001b[0;31m         \u001b[0mx\u001b[0m \u001b[0;34m=\u001b[0m \u001b[0mnp\u001b[0m\u001b[0;34m.\u001b[0m\u001b[0mzeros\u001b[0m\u001b[0;34m(\u001b[0m\u001b[0;34m(\u001b[0m\u001b[0mlen\u001b[0m\u001b[0;34m(\u001b[0m\u001b[0msequences\u001b[0m\u001b[0;34m)\u001b[0m\u001b[0;34m,\u001b[0m \u001b[0mnum_words\u001b[0m\u001b[0;34m)\u001b[0m\u001b[0;34m)\u001b[0m\u001b[0;34m\u001b[0m\u001b[0m\n\u001b[0m\u001b[1;32m    407\u001b[0m         \u001b[0;32mfor\u001b[0m \u001b[0mi\u001b[0m\u001b[0;34m,\u001b[0m \u001b[0mseq\u001b[0m \u001b[0;32min\u001b[0m \u001b[0menumerate\u001b[0m\u001b[0;34m(\u001b[0m\u001b[0msequences\u001b[0m\u001b[0;34m)\u001b[0m\u001b[0;34m:\u001b[0m\u001b[0;34m\u001b[0m\u001b[0m\n\u001b[1;32m    408\u001b[0m             \u001b[0;32mif\u001b[0m \u001b[0;32mnot\u001b[0m \u001b[0mseq\u001b[0m\u001b[0;34m:\u001b[0m\u001b[0;34m\u001b[0m\u001b[0m\n",
      "\u001b[0;31mMemoryError\u001b[0m: "
     ]
    }
   ],
   "source": [
    "#设置分词的数目\n",
    "num_words = 5000\n",
    "#初始化分词器\n",
    "tokenizer = Tokenizer(num_words=num_words)\n",
    "#对x_train进行分词\n",
    "tokenizer.fit_on_texts (x_train)\n",
    "\n",
    "#将分词结果按照次数排序\n",
    "#word_count = sorted(list(tokenizer.word_counts.items()), key=lambda x: x[1], reverse=True)\n",
    "#print(word_count)\n",
    "\n",
    "#根据分词器的结果，对train数据集进行one-hot编码\n",
    "x_train_one_hot = tokenizer.texts_to_matrix(x_train, mode='binary')\n",
    "#根据分词器的结果，对dev数据集进行one-hot编码\n",
    "x_dev_one_hot = tokenizer.texts_to_matrix(x_dev, mode='binary')\n",
    "#根据分词器的结果，对tes数据集进行one-hot编码\n",
    "x_test_one_hot = tokenizer.texts_to_matrix(x_test, mode='binary')\n",
    "\n",
    "#输出train,dev,test的shape进行检验\n",
    "print(x_train_one_hot.shape)\n",
    "print(y_train_idx.shape)\n",
    "print(x_dev_one_hot.shape)\n",
    "print(y_dev_idx.shape)\n",
    "print(x_test_one_hot.shape)\n",
    "print(y_test_idx.shape)"
   ]
  },
  {
   "cell_type": "markdown",
   "metadata": {},
   "source": [
    "## 训练时需要用到的一些函数"
   ]
  },
  {
   "cell_type": "code",
   "execution_count": 55,
   "metadata": {},
   "outputs": [],
   "source": [
    "import matplotlib.pyplot as plt\n",
    "\n",
    "#定义绘制模型准确率的曲线\n",
    "def plot_train_history(history): \n",
    "    #初始化train集合的准确率\n",
    "    acc = history.history['top_k_categorical_accuracy']\n",
    "    #初始化validation集合的准确率\n",
    "    val_acc = history.history['val_top_k_categorical_accuracy']\n",
    "    #初始化train集合的损失值\n",
    "    loss = history.history['loss']\n",
    "    #初始化validation集合的准确率\n",
    "    val_loss = history.history['val_loss']\n",
    "    #初始化周期数\n",
    "    epochs = range(1, len(acc) + 1)\n",
    "    #绘制Training acc曲线\n",
    "    plt.plot (epochs, acc, 'bo', label='Training acc')\n",
    "    #绘制Validation acc曲线\n",
    "    plt.plot (epochs, val_acc, 'b', label='Validation acc')\n",
    "    #绘制曲线标题\n",
    "    plt.title ('Training and validation accuracy')\n",
    "    #绘制曲线标题\n",
    "    plt.legend()\n",
    "    #绘制figure窗口\n",
    "    plt.figure()\n",
    "    #绘制Training loss曲线\n",
    "    plt.plot(epochs, loss, 'bo', label = 'Training loss')\n",
    "    #绘制Validation loss曲线\n",
    "    plt.plot(epochs, val_loss, 'b', label = 'Validation loss')\n",
    "    #绘制曲线标题\n",
    "    plt.title('Training and validation loss')\n",
    "    #绘制曲线标题\n",
    "    plt.legend()\n",
    "    #展示图片\n",
    "    plt.show()"
   ]
  },
  {
   "cell_type": "markdown",
   "metadata": {},
   "source": [
    "## 线性分类器\n",
    "* 输入层\n",
    "* 输出层：全连接层\n"
   ]
  },
  {
   "cell_type": "code",
   "execution_count": 52,
   "metadata": {},
   "outputs": [
    {
     "name": "stdout",
     "output_type": "stream",
     "text": [
      "Train on 400000 samples, validate on 20000 samples\n",
      "Epoch 1/20\n",
      " - 439s - loss: 2.4423 - acc: 0.4360 - top_k_categorical_accuracy: 0.6999 - val_loss: 2.3833 - val_acc: 0.4384 - val_top_k_categorical_accuracy: 0.6997\n",
      "Epoch 2/20\n",
      " - 548s - loss: 2.0766 - acc: 0.4924 - top_k_categorical_accuracy: 0.7568 - val_loss: 2.4294 - val_acc: 0.4404 - val_top_k_categorical_accuracy: 0.7050\n",
      "Epoch 3/20\n",
      " - 538s - loss: 2.0523 - acc: 0.4992 - top_k_categorical_accuracy: 0.7647 - val_loss: 2.5073 - val_acc: 0.4399 - val_top_k_categorical_accuracy: 0.7036\n",
      "Epoch 4/20\n",
      " - 595s - loss: 2.0548 - acc: 0.5028 - top_k_categorical_accuracy: 0.7686 - val_loss: 2.5835 - val_acc: 0.4355 - val_top_k_categorical_accuracy: 0.7003\n",
      "Epoch 5/20\n",
      " - 667s - loss: 2.0631 - acc: 0.5055 - top_k_categorical_accuracy: 0.7704 - val_loss: 2.6450 - val_acc: 0.4333 - val_top_k_categorical_accuracy: 0.6967\n",
      "Epoch 6/20\n",
      " - 679s - loss: 2.0726 - acc: 0.5068 - top_k_categorical_accuracy: 0.7718 - val_loss: 2.6876 - val_acc: 0.4328 - val_top_k_categorical_accuracy: 0.6985\n",
      "Epoch 7/20\n",
      " - 649s - loss: 2.0816 - acc: 0.5086 - top_k_categorical_accuracy: 0.7738 - val_loss: 2.7398 - val_acc: 0.4358 - val_top_k_categorical_accuracy: 0.6979\n",
      "Epoch 8/20\n",
      " - 609s - loss: 2.0902 - acc: 0.5099 - top_k_categorical_accuracy: 0.7752 - val_loss: 2.7839 - val_acc: 0.4345 - val_top_k_categorical_accuracy: 0.6987\n",
      "Epoch 9/20\n",
      " - 558s - loss: 2.0989 - acc: 0.5113 - top_k_categorical_accuracy: 0.7762 - val_loss: 2.8253 - val_acc: 0.4345 - val_top_k_categorical_accuracy: 0.6977\n",
      "Epoch 10/20\n",
      " - 540s - loss: 2.1068 - acc: 0.5120 - top_k_categorical_accuracy: 0.7774 - val_loss: 2.8568 - val_acc: 0.4351 - val_top_k_categorical_accuracy: 0.6966\n",
      "Epoch 11/20\n",
      " - 541s - loss: 2.1137 - acc: 0.5129 - top_k_categorical_accuracy: 0.7787 - val_loss: 2.8889 - val_acc: 0.4333 - val_top_k_categorical_accuracy: 0.6984\n",
      "Epoch 12/20\n",
      " - 596s - loss: 2.1211 - acc: 0.5138 - top_k_categorical_accuracy: 0.7797 - val_loss: 2.9304 - val_acc: 0.4358 - val_top_k_categorical_accuracy: 0.6972\n",
      "Epoch 13/20\n",
      " - 623s - loss: 2.1278 - acc: 0.5145 - top_k_categorical_accuracy: 0.7803 - val_loss: 2.9554 - val_acc: 0.4372 - val_top_k_categorical_accuracy: 0.6977\n",
      "Epoch 14/20\n",
      " - 641s - loss: 2.1344 - acc: 0.5151 - top_k_categorical_accuracy: 0.7814 - val_loss: 2.9810 - val_acc: 0.4354 - val_top_k_categorical_accuracy: 0.6966\n",
      "Epoch 15/20\n",
      " - 641s - loss: 2.1401 - acc: 0.5159 - top_k_categorical_accuracy: 0.7822 - val_loss: 3.0059 - val_acc: 0.4354 - val_top_k_categorical_accuracy: 0.6956\n",
      "Epoch 16/20\n",
      " - 577s - loss: 2.1464 - acc: 0.5163 - top_k_categorical_accuracy: 0.7830 - val_loss: 3.0317 - val_acc: 0.4350 - val_top_k_categorical_accuracy: 0.6954\n",
      "Epoch 17/20\n",
      " - 543s - loss: 2.1517 - acc: 0.5170 - top_k_categorical_accuracy: 0.7835 - val_loss: 3.0492 - val_acc: 0.4360 - val_top_k_categorical_accuracy: 0.6959\n",
      "Epoch 18/20\n",
      " - 541s - loss: 2.1578 - acc: 0.5175 - top_k_categorical_accuracy: 0.7842 - val_loss: 3.0654 - val_acc: 0.4353 - val_top_k_categorical_accuracy: 0.6944\n",
      "Epoch 19/20\n",
      " - 542s - loss: 2.1634 - acc: 0.5177 - top_k_categorical_accuracy: 0.7844 - val_loss: 3.0932 - val_acc: 0.4338 - val_top_k_categorical_accuracy: 0.6946\n",
      "Epoch 20/20\n",
      " - 544s - loss: 2.1690 - acc: 0.5181 - top_k_categorical_accuracy: 0.7851 - val_loss: 3.1198 - val_acc: 0.4351 - val_top_k_categorical_accuracy: 0.6927\n",
      "best validation accuracy:  0.44035\n"
     ]
    },
    {
     "data": {
      "image/png": "[encoded data removed]",
      "text/plain": [
       "<Figure size 432x288 with 1 Axes>"
      ]
     },
     "metadata": {},
     "output_type": "display_data"
    },
    {
     "data": {
      "image/png": "[encoded data removed]",
      "text/plain": [
       "<Figure size 432x288 with 1 Axes>"
      ]
     },
     "metadata": {},
     "output_type": "display_data"
    }
   ],
   "source": [
    "#设置模型输出维度\n",
    "output_size = y_dev_idx.shape[1]\n",
    "#采用序贯模型\n",
    "model = Sequential()\n",
    "#加入全连接层\n",
    "model.add(Dense(output_size, activation='softmax', input_shape=(num_words,))) \n",
    "#对模型进行编译\n",
    "model.compile(optimizer=optimizers.RMSprop(lr = 0.005),\n",
    "              loss='categorical_crossentropy',\n",
    "              metrics=['accuracy','top_k_categorical_accuracy'])\n",
    "#对模型进行训练\n",
    "history = model.fit (x_train_one_hot, y_train_idx,\n",
    "                    epochs = 20,\n",
    "                    batch_size = 512,\n",
    "                    validation_data = (x_dev_one_hot, y_dev_idx),\n",
    "                    verbose=2)"
   ]
  },
  {
   "cell_type": "code",
   "execution_count": 57,
   "metadata": {},
   "outputs": [
    {
     "name": "stdout",
     "output_type": "stream",
     "text": [
      "best validation accuracy:  0.705\n"
     ]
    },
    {
     "data": {
      "image/png": "[encoded data removed]",
      "text/plain": [
       "<Figure size 432x288 with 1 Axes>"
      ]
     },
     "metadata": {},
     "output_type": "display_data"
    },
    {
     "data": {
      "image/png": "[encoded data removed]",
      "text/plain": [
       "<Figure size 432x288 with 1 Axes>"
      ]
     },
     "metadata": {},
     "output_type": "display_data"
    }
   ],
   "source": [
    "#输出最高的准确率\n",
    "print (\"best validation accuracy: \", max(history.history['val_top_k_categorical_accuracy']))\n",
    "#绘制曲线\n",
    "plot_train_history(history)\n",
    "#保存模型\n",
    "model.save(\"emoji_linear.h5\")"
   ]
  },
  {
   "cell_type": "code",
   "execution_count": 63,
   "metadata": {},
   "outputs": [
    {
     "name": "stdout",
     "output_type": "stream",
     "text": [
      "Test top5 accuracy: 0.6385\n"
     ]
    }
   ],
   "source": [
    "#在测试集上进行测试\n",
    "score = model.evaluate(x_test_one_hot, y_test_idx, verbose = 0)\n",
    "#输出top5的准确率\n",
    "print('Test top5 accuracy:', score[2])"
   ]
  },
  {
   "cell_type": "code",
   "execution_count": 68,
   "metadata": {},
   "outputs": [
    {
     "data": {
      "text/plain": [
       "array([45, 58, 28, ..., 45, 62, 44])"
      ]
     },
     "execution_count": 68,
     "metadata": {},
     "output_type": "execute_result"
    }
   ],
   "source": [
    "model.predict_classes(x_test_one_hot)"
   ]
  },
  {
   "cell_type": "markdown",
   "metadata": {},
   "source": [
    "## 一层隐含层的神经网络\n",
    "* 输入层\n",
    "* 隐含层：全连接层\n",
    "* 输出层：全连接层"
   ]
  },
  {
   "cell_type": "code",
   "execution_count": null,
   "metadata": {},
   "outputs": [],
   "source": [
    "#设置模型输出维度\n",
    "n_output_classes = y_dev_idx.shape[1]\n",
    "#采用序贯模型\n",
    "model = Sequential()\n",
    "#加入全连接层1\n",
    "model.add(Dense(128, activation='relu', input_shape=(num_words,)))\n",
    "#加入全连接层2\n",
    "model.add(Dense(n_output_classes, activation = 'softmax'))\n",
    "#对模型进行编译\n",
    "model.compile(optimizer = 'rmsprop',\n",
    "              loss='categorical_crossentropy',\n",
    "              metrics=['accuracy','top_k_categorical_accuracy'])\n",
    "#加入early stopping防止过拟合\n",
    "early = keras.callbacks.EarlyStopping(monitor='val_loss',\n",
    "                              min_delta=0.01,\n",
    "                              patience=10,\n",
    "                              verbose=1, mode='auto')\n",
    "#对模型进行训练\n",
    "history = model.fit (x_train_one_hot, y_train_idx,\n",
    "                    epochs = 10,\n",
    "                    batch_size = 512,\n",
    "                    verbose=1,\n",
    "                    validation_data = (x_dev_one_hot, y_dev_idx),\n",
    "                    callbacks = [early])"
   ]
  },
  {
   "cell_type": "code",
   "execution_count": null,
   "metadata": {},
   "outputs": [],
   "source": [
    "#输出最高的准确率\n",
    "print (\"best validation accuracy: \", max(history.history['val_top_k_categorical_accuracy']))\n",
    "#绘制曲线\n",
    "plot_train_history(history)\n",
    "#保存模型\n",
    "model.save(\"emoji_hidden1.h5\")"
   ]
  },
  {
   "cell_type": "code",
   "execution_count": null,
   "metadata": {},
   "outputs": [],
   "source": [
    "#在测试集上进行测试\n",
    "score = model.evaluate(x_test_one_hot, y_test_idx, verbose = 0)\n",
    "#输出top5的准确率\n",
    "print('Test top5 accuracy:', score[2])"
   ]
  },
  {
   "cell_type": "markdown",
   "metadata": {},
   "source": [
    "## 两层隐含层的神经网络\n",
    "* 输入层\n",
    "* 隐含层1：全连接层\n",
    "* 隐含层2：全连接层\n",
    "* 输出层：全连接层"
   ]
  },
  {
   "cell_type": "code",
   "execution_count": null,
   "metadata": {},
   "outputs": [],
   "source": [
    "#设置模型输出维度\n",
    "n_output_classes = y_dev_idx.shape[1]\n",
    "#采用序贯模型\n",
    "model = Sequential()\n",
    "#加入全连接层1\n",
    "model.add(Dense(300, activation='relu', input_shape=(num_words,)))\n",
    "#加入全连接层2\n",
    "model.add(Dense(128, activation='relu', \n",
    "                kernel_regularizer = regularizers.l2(0.0025)))\n",
    "#加入全连接层3\n",
    "model.add(Dense(n_output_classes, activation = 'softmax'))\n",
    "#对模型进行编译\n",
    "model.compile(optimizer = 'rmsprop',\n",
    "              loss='categorical_crossentropy',\n",
    "              metrics=['accuracy','top_k_categorical_accuracy'])\n",
    "#加入early stopping防止过拟合\n",
    "early = keras.callbacks.EarlyStopping(monitor='val_acc',\n",
    "                              min_delta=0.01,\n",
    "                              patience=5,\n",
    "                              verbose=1, mode='auto')\n",
    "#对模型进行训练\n",
    "history = model.fit (x_train_one_hot, y_train_idx,\n",
    "                    epochs = 20,\n",
    "                    batch_size = 512,\n",
    "                    verbose=1,\n",
    "                    validation_data = (x_dev_one_hot, y_dev_idx),\n",
    "                    callbacks=[early])"
   ]
  },
  {
   "cell_type": "code",
   "execution_count": null,
   "metadata": {},
   "outputs": [],
   "source": [
    "#输出最高的准确率\n",
    "print (\"best validation accuracy: \", max(history.history['val_top_k_categorical_accuracy']))\n",
    "#绘制曲线\n",
    "plot_train_history(history)\n",
    "#保存模型\n",
    "model.save(\"emoji_hidden2.h5\")"
   ]
  },
  {
   "cell_type": "code",
   "execution_count": null,
   "metadata": {},
   "outputs": [],
   "source": [
    "#在测试集上进行测试\n",
    "score = model.evaluate(x_test_one_hot, y_test_idx, verbose = 0)\n",
    "#输出top5的准确率\n",
    "print('Test top5 accuracy:', score[2])"
   ]
  },
  {
   "cell_type": "markdown",
   "metadata": {},
   "source": [
    "## 两层隐含层的神经网络：dropout和正则化\n",
    "* 输入层\n",
    "* 隐含层1：全连接层，dropout，L2正则化\n",
    "* 隐含层2：全连接层，dropout，L2正则化\n",
    "* 输出层：全连接层"
   ]
  },
  {
   "cell_type": "code",
   "execution_count": null,
   "metadata": {},
   "outputs": [],
   "source": [
    "#设置模型输出维度\n",
    "n_output_classes = y_dev_idx.shape[1]\n",
    "#采用序贯模型\n",
    "model = Sequential()\n",
    "#加入全连接层1\n",
    "model.add(Dense(300, activation='relu', input_shape=(num_words,)))\n",
    "model.add(Dropout(0.4))\n",
    "#加入全连接层2\n",
    "model.add(Dense(128, activation='relu',\n",
    "                kernel_regularizer = regularizers.l2(0.002)))\n",
    "model.add(Dropout(0.4))\n",
    "#加入全连接层3\n",
    "model.add(Dense(n_output_classes, activation = 'softmax'))\n",
    "#对模型进行编译\n",
    "model.compile(optimizer = 'rmsprop',\n",
    "              loss='categorical_crossentropy',\n",
    "              metrics=['accuracy','top_k_categorical_accuracy'])\n",
    "#对模型进行训练\n",
    "history = model.fit (x_train_one_hot, y_train_idx,\n",
    "                    epochs = 20,\n",
    "                    batch_size = 512,\n",
    "                    verbose=1,\n",
    "                    validation_data = (x_dev_one_hot, y_dev_idx))"
   ]
  },
  {
   "cell_type": "code",
   "execution_count": null,
   "metadata": {},
   "outputs": [],
   "source": [
    "#输出最高的准确率\n",
    "print (\"best validation accuracy: \", max(history.history['val_top_k_categorical_accuracy']))\n",
    "#绘制曲线\n",
    "plot_train_history(history)\n",
    "#保存模型\n",
    "model.save(\"emoji_hidden2_dropout_L2.h5\")"
   ]
  },
  {
   "cell_type": "code",
   "execution_count": null,
   "metadata": {},
   "outputs": [],
   "source": [
    "#在测试集上进行测试\n",
    "score = model.evaluate(x_test_one_hot, y_test_idx, verbose = 0)\n",
    "#输出top5的准确率\n",
    "print('Test top5 accuracy:', score[2])"
   ]
  },
  {
   "cell_type": "markdown",
   "metadata": {},
   "source": [
    "## 加入embedding层的简单神经网络\n",
    "* 输入层\n",
    "* 隐含层1：embedding层\n",
    "* 隐含层2:   flatten层\n",
    "* 输出层：全连接层"
   ]
  },
  {
   "cell_type": "code",
   "execution_count": 28,
   "metadata": {},
   "outputs": [],
   "source": [
    "#定义序列的最长长度为25\n",
    "maxlen = 25\n",
    "#对文本进行填充\n",
    "def convert_to_sequences(tweet_text, tokenizer, maxlen=20):\n",
    "    tweet_sequence = np.asarray(tokenizer.texts_to_sequences(tweet_text))\n",
    "    padded = pad_sequences (tweet_sequence, maxlen=maxlen)\n",
    "    return (padded)\n",
    "#将train，dev，test集进行文本填充转换\n",
    "x_train_sequences = convert_to_sequences(x_train, tokenizer, maxlen=maxlen)\n",
    "x_dev_sequences = convert_to_sequences(x_dev, tokenizer, maxlen=maxlen)\n",
    "x_test_sequences = convert_to_sequences(x_test, tokenizer, maxlen=maxlen)"
   ]
  },
  {
   "cell_type": "code",
   "execution_count": 29,
   "metadata": {},
   "outputs": [],
   "source": [
    "#设置输出维度大小\n",
    "n_output_classes = y_dev_idx.shape[1]\n",
    "\n",
    "#定义embedding模型\n",
    "def simple_embedding_model(num_words, n_output_classes, n_embedding_dims = 16, max_sequence_length = 20):\n",
    "    #采用序贯模型\n",
    "    model = Sequential()\n",
    "    #加入embedding层\n",
    "    model.add(Embedding(num_words, n_embedding_dims, input_length = max_sequence_length, name=\"embedding\")) \n",
    "    #加入flatten层，把tensor转化为2维（samples，maxlen*8）\n",
    "    model.add(Flatten()) \n",
    "    #加入全连接层\n",
    "    model.add(Dense(n_output_classes, activation = 'softmax'))\n",
    "    #对模型进行编译\n",
    "    model.compile(optimizer = 'rmsprop',\n",
    "                  loss='categorical_crossentropy',\n",
    "                  metrics=['accuracy','top_k_categorical_accuracy'])\n",
    "    return (model)"
   ]
  },
  {
   "cell_type": "code",
   "execution_count": 31,
   "metadata": {},
   "outputs": [
    {
     "name": "stdout",
     "output_type": "stream",
     "text": [
      "Train on 400000 samples, validate on 20000 samples\n",
      "Epoch 1/20\n",
      "400000/400000 [==============================] - 144s 361us/step - loss: 2.6372 - acc: 0.3775 - top_k_categorical_accuracy: 0.6375 - val_loss: 2.4735 - val_acc: 0.4007 - val_top_k_categorical_accuracy: 0.6593\n",
      "Epoch 2/20\n",
      "400000/400000 [==============================] - 150s 376us/step - loss: 2.1587 - acc: 0.4695 - top_k_categorical_accuracy: 0.7185 - val_loss: 2.3320 - val_acc: 0.4379 - val_top_k_categorical_accuracy: 0.6843\n",
      "Epoch 3/20\n",
      "400000/400000 [==============================] - 153s 382us/step - loss: 1.9909 - acc: 0.5044 - top_k_categorical_accuracy: 0.7485 - val_loss: 2.2820 - val_acc: 0.4471 - val_top_k_categorical_accuracy: 0.6955\n",
      "Epoch 4/20\n",
      "400000/400000 [==============================] - 147s 369us/step - loss: 1.8843 - acc: 0.5261 - top_k_categorical_accuracy: 0.7668 - val_loss: 2.2642 - val_acc: 0.4509 - val_top_k_categorical_accuracy: 0.6996\n",
      "Epoch 5/20\n",
      "400000/400000 [==============================] - 158s 395us/step - loss: 1.8070 - acc: 0.5423 - top_k_categorical_accuracy: 0.7799 - val_loss: 2.2515 - val_acc: 0.4573 - val_top_k_categorical_accuracy: 0.7028\n",
      "Epoch 6/20\n",
      "400000/400000 [==============================] - 152s 379us/step - loss: 1.7468 - acc: 0.5546 - top_k_categorical_accuracy: 0.7905 - val_loss: 2.2567 - val_acc: 0.4601 - val_top_k_categorical_accuracy: 0.7045\n",
      "Epoch 7/20\n",
      "400000/400000 [==============================] - 153s 383us/step - loss: 1.6979 - acc: 0.5652 - top_k_categorical_accuracy: 0.7986 - val_loss: 2.2671 - val_acc: 0.4580 - val_top_k_categorical_accuracy: 0.7048\n",
      "Epoch 8/20\n",
      "400000/400000 [==============================] - 159s 398us/step - loss: 1.6571 - acc: 0.5736 - top_k_categorical_accuracy: 0.8055 - val_loss: 2.2865 - val_acc: 0.4600 - val_top_k_categorical_accuracy: 0.7036\n",
      "Epoch 00008: early stopping\n"
     ]
    }
   ],
   "source": [
    "clear_session()\n",
    "#定义模型\n",
    "model = simple_embedding_model(num_words,\n",
    "                               n_output_classes, \n",
    "                               n_embedding_dims = 64, \n",
    "                               max_sequence_length = maxlen)    \n",
    "#加入early stopping防止过拟合\n",
    "early = keras.callbacks.EarlyStopping(monitor='val_loss',\n",
    "                              min_delta=0.03,\n",
    "                              patience=3,\n",
    "                              verbose=1, mode='auto')\n",
    "#加入断点续训\n",
    "checkpoint = keras.callbacks.ModelCheckpoint(filepath='/model/emoji_embedding.h5',\n",
    "                                             monitor='val_acc',\n",
    "                                             save_best_only = True)\n",
    "#对模型进行可视化\n",
    "tensorboard = keras.callbacks.TensorBoard(log_dir='tensorboard_log',\n",
    "                                          #write_grads=1,\n",
    "                                          #histogram_freq=1,\n",
    "                                          embeddings_freq=1,\n",
    "                                          embeddings_data='embedding') \n",
    "#对模型进行训练\n",
    "history = model.fit (x_train_sequences, y_train_idx,\n",
    "                     validation_data = (x_dev_sequences, y_dev_idx),\n",
    "                     epochs = 20,\n",
    "                     batch_size = 512,\n",
    "                     verbose=1,\n",
    "                     callbacks=[early])"
   ]
  },
  {
   "cell_type": "code",
   "execution_count": null,
   "metadata": {},
   "outputs": [],
   "source": [
    "#输出最高的准确率\n",
    "print (\"best validation accuracy: \", max(history.history['val_top_k_categorical_accuracy']))\n",
    "#绘制曲线\n",
    "plot_train_history(history)\n",
    "#保存模型\n",
    "model.save(\"emoji_embe1.h5\")"
   ]
  },
  {
   "cell_type": "code",
   "execution_count": 35,
   "metadata": {},
   "outputs": [
    {
     "data": {
      "text/plain": [
       "array(['😍', '😭', '💋', ..., '🔥', '💀', '😁'], dtype=object)"
      ]
     },
     "execution_count": 35,
     "metadata": {},
     "output_type": "execute_result"
    }
   ],
   "source": [
    "#在测试集上进行测试\n",
    "score = model.evaluate(x_test_sequences, y_test_idx, verbose = 0)\n",
    "#输出top5的准确率\n",
    "print('Test top5 accuracy:', score[2])"
   ]
  },
  {
   "cell_type": "code",
   "execution_count": 32,
   "metadata": {},
   "outputs": [
    {
     "data": {
      "text/plain": [
       "array([45, 58, 28, ..., 45, 58, 45])"
      ]
     },
     "execution_count": 32,
     "metadata": {},
     "output_type": "execute_result"
    }
   ],
   "source": [
    "model.predict_classes(x_test_sequences)"
   ]
  },
  {
   "cell_type": "markdown",
   "metadata": {},
   "source": [
    "## 加入embedding层的深层神经网络\n",
    "* 输入层\n",
    "* 隐含层1:  embedding层\n",
    "* 隐含层2:  flatten层\n",
    "* 隐含层3:  全连接层，dropout，L2正则化\n",
    "* 隐含层4:  全连接层，dropout，L2正则化\n",
    "* 输出层：全连接层"
   ]
  },
  {
   "cell_type": "code",
   "execution_count": 10,
   "metadata": {},
   "outputs": [],
   "source": [
    "#设置输出维度大小\n",
    "n_output_classes = y_dev_idx.shape[1]\n",
    "#定义deeper embedding模型\n",
    "def deeper_embedding_model(num_words,\n",
    "                           n_output_classes, \n",
    "                           n_embedding_dims = 16, \n",
    "                           max_sequence_length = 20, \n",
    "                           dense1_size = 16, \n",
    "                           dropout1_rate = 0.2,\n",
    "                           dense2_size = 16,\n",
    "                           dropout2_rate = 0.2,\n",
    "                           lambd = 0.0):\n",
    "    #采用序贯模型\n",
    "    model = Sequential()\n",
    "    #加入embedding层\n",
    "    model.add(Embedding(num_words, n_embedding_dims, input_length = max_sequence_length, name=\"embedding\")) \n",
    "    #加入flatten层\n",
    "    model.add(Flatten()) \n",
    "    #加入全连接层\n",
    "    model.add(Dense(dense1_size, activation='relu'))\n",
    "    model.add(Dropout(dropout1_rate))\n",
    "    #加入全连接层\n",
    "    model.add(Dense(dense2_size, activation='relu',\n",
    "                    kernel_regularizer = regularizers.l2(lambd)))\n",
    "    model.add(Dropout(dropout2_rate))\n",
    "    #加入全连接层\n",
    "    model.add(Dense(n_output_classes, activation = 'softmax'))\n",
    "    #对模型进行编译\n",
    "    model.compile(optimizer = 'rmsprop',\n",
    "                  loss='categorical_crossentropy',\n",
    "                  metrics=['accuracy'])\n",
    "    return (model)"
   ]
  },
  {
   "cell_type": "code",
   "execution_count": 11,
   "metadata": {},
   "outputs": [
    {
     "ename": "NameError",
     "evalue": "name 'n_output_classes' is not defined",
     "output_type": "error",
     "traceback": [
      "\u001b[0;31m---------------------------------------------------------------------------\u001b[0m",
      "\u001b[0;31mNameError\u001b[0m                                 Traceback (most recent call last)",
      "\u001b[0;32m<ipython-input-11-23f658cb427c>\u001b[0m in \u001b[0;36m<module>\u001b[0;34m()\u001b[0m\n\u001b[1;32m      2\u001b[0m \u001b[0;31m#定义模型\u001b[0m\u001b[0;34m\u001b[0m\u001b[0;34m\u001b[0m\u001b[0m\n\u001b[1;32m      3\u001b[0m model = deeper_embedding_model(num_words,\n\u001b[0;32m----> 4\u001b[0;31m                                \u001b[0mn_output_classes\u001b[0m\u001b[0;34m,\u001b[0m\u001b[0;34m\u001b[0m\u001b[0m\n\u001b[0m\u001b[1;32m      5\u001b[0m                                \u001b[0mn_embedding_dims\u001b[0m \u001b[0;34m=\u001b[0m \u001b[0;36m28\u001b[0m\u001b[0;34m,\u001b[0m\u001b[0;34m\u001b[0m\u001b[0m\n\u001b[1;32m      6\u001b[0m                                \u001b[0mmax_sequence_length\u001b[0m \u001b[0;34m=\u001b[0m \u001b[0mmaxlen\u001b[0m\u001b[0;34m,\u001b[0m\u001b[0;34m\u001b[0m\u001b[0m\n",
      "\u001b[0;31mNameError\u001b[0m: name 'n_output_classes' is not defined"
     ]
    }
   ],
   "source": [
    "clear_session()\n",
    "#定义模型\n",
    "model = deeper_embedding_model(num_words,\n",
    "                               n_output_classes, \n",
    "                               n_embedding_dims = 28, \n",
    "                               max_sequence_length = maxlen,\n",
    "                               lambd = 0.0006)    \n",
    "#加入early stopping防止过拟合\n",
    "early = keras.callbacks.EarlyStopping(monitor='val_acc',\n",
    "                              min_delta=0.01,\n",
    "                              patience=5,\n",
    "                              verbose=1, mode='auto')\n",
    "#加入断点续训\n",
    "checkpoint = keras.callbacks.ModelCheckpoint(filepath='emoji_embedding_v2.h5',\n",
    "                                             monitor='val_acc',\n",
    "                                             save_best_only = True)\n",
    "#对模型进行训练\n",
    "history = model.fit (x_train_sequences, y_train_idx,\n",
    "                     validation_data = (x_dev_sequences, y_dev_idx),\n",
    "                     epochs = 50,\n",
    "                     batch_size = 512,\n",
    "                     verbose=1,\n",
    "                     callbacks=[early])"
   ]
  },
  {
   "cell_type": "code",
   "execution_count": null,
   "metadata": {},
   "outputs": [],
   "source": [
    "#输出最高的准确率\n",
    "print (\"best validation accuracy: \", max(history.history['val_top_k_categorical_accuracy']))\n",
    "#绘制曲线\n",
    "plot_train_history(history)\n",
    "#保存模型\n",
    "model.save(\"emoji_embedding2.h5\")"
   ]
  },
  {
   "cell_type": "markdown",
   "metadata": {},
   "source": [
    "## 模型调参"
   ]
  },
  {
   "cell_type": "code",
   "execution_count": null,
   "metadata": {},
   "outputs": [],
   "source": [
    "clear_session()\n",
    "#定义模型\n",
    "model = deeper_embedding_model(num_words,\n",
    "                               n_output_classes, \n",
    "                               n_embedding_dims = 128,          #196      # 128\n",
    "                               max_sequence_length = maxlen,\n",
    "                               dense1_size = 128,               # 160     # 128\n",
    "                               dropout1_rate = 0.4,           # 0.35\n",
    "                               dense2_size = 96,             # 128   # 96\n",
    "                               dropout2_rate = 0.4,           # 0.35\n",
    "                               lambd = 0.0025)                # 0.0015\n",
    "#加入early stopping防止过拟合                           \n",
    "early = keras.callbacks.EarlyStopping(monitor='val_loss',\n",
    "                              min_delta=0.01,\n",
    "                              patience=10,\n",
    "                              verbose=1, mode='auto')\n",
    "#对模型进行训练\n",
    "history = model.fit (x_train_sequences, y_train_idx,\n",
    "                     validation_data = (x_dev_sequences, y_dev_idx),\n",
    "                     epochs = 50,\n",
    "                     batch_size = 512,\n",
    "                     verbose=1,\n",
    "                     callbacks=[early])"
   ]
  },
  {
   "cell_type": "code",
   "execution_count": null,
   "metadata": {},
   "outputs": [],
   "source": [
    "#输出最高的准确率\n",
    "print (\"best validation accuracy: \", max(history.history['val_top_k_categorical_accuracy']))\n",
    "#绘制曲线\n",
    "plot_train_history(history)\n",
    "#保存模型\n",
    "model.save(\"emoji_embedding2_temp.h5\")"
   ]
  },
  {
   "cell_type": "code",
   "execution_count": null,
   "metadata": {},
   "outputs": [],
   "source": [
    "#在测试集上进行测试\n",
    "score = model.evaluate(x_test_sequences, y_test_idx, verbose = 0)\n",
    "#输出top5的准确率\n",
    "print('Test top5 accuracy:', score[2])"
   ]
  },
  {
   "cell_type": "markdown",
   "metadata": {},
   "source": [
    "## LSTM模型\n",
    "* 输入层\n",
    "* 隐含层1：embedding层\n",
    "* 隐含层2:  LSTM层\n",
    "* 隐含层3:  全连接层，dropout，正则化\n",
    "* 隐含层4:  全连接层，dropout，正则化\n",
    "* 输出层：全连接层"
   ]
  },
  {
   "cell_type": "code",
   "execution_count": null,
   "metadata": {},
   "outputs": [],
   "source": [
    "#定义LSTM模型\n",
    "def simple_lstm_model(num_words,\n",
    "                           n_output_classes, \n",
    "                           n_embedding_dims = 16, \n",
    "                           max_sequence_length = 20, \n",
    "                           dense1_size = 16, \n",
    "                           dropout1_rate = 0.2,\n",
    "                           lambd = 0.0):\n",
    "    #采用序贯模型\n",
    "    model = Sequential()\n",
    "    #加入embedding层\n",
    "    model.add(Embedding(num_words, n_embedding_dims, input_length = max_sequence_length, name=\"embedding\")) \n",
    "    #加入LSTM层\n",
    "    model.add(LSTM(n_embedding_dims))\n",
    "    # model.add(Flatten()) \n",
    "    #加入全连接层\n",
    "    model.add(Dense(dense1_size, activation='relu'))\n",
    "    model.add(Dropout(dropout1_rate))\n",
    "    #加入全连接层\n",
    "    model.add(Dense(n_output_classes, activation = 'softmax'))\n",
    "    #对模型进行编译\n",
    "    model.compile(optimizer = 'rmsprop',\n",
    "                  loss='categorical_crossentropy',\n",
    "                  metrics=['accuracy'])\n",
    "    return (model)"
   ]
  },
  {
   "cell_type": "code",
   "execution_count": null,
   "metadata": {},
   "outputs": [],
   "source": [
    "clear_session()\n",
    "n_output_classes = y_dev_idx.shape[1]\n",
    "#定义模型\n",
    "model = simple_lstm_model(num_words,\n",
    "                          n_output_classes, \n",
    "                          n_embedding_dims = 90,          \n",
    "                          max_sequence_length = maxlen,\n",
    "                          dense1_size = 128,               \n",
    "                          dropout1_rate = 0.2,           \n",
    "                          lambd = 0.0025)                \n",
    "#对模型进行可视化\n",
    "tensorboard = keras.callbacks.TensorBoard(log_dir='tensorboard_log')\n",
    "                                          #write_grads=1,\n",
    "                                          #histogram_freq=1,\n",
    "                                          #embeddings_freq=1,\n",
    "                                          #embeddings_data='embedding') \n",
    "#加入early stopping防止过拟合  \n",
    "early = keras.callbacks.EarlyStopping(monitor='val_loss',\n",
    "                              min_delta=0.01,\n",
    "                              patience=5,\n",
    "                              verbose=1, mode='auto')\n",
    "#对模型进行训练\n",
    "history = model.fit (x_train_sequences, y_train_idx,\n",
    "                     validation_data = (x_dev_sequences, y_dev_idx),\n",
    "                     epochs = 50,\n",
    "                     batch_size = 512,\n",
    "                     verbose=1,\n",
    "                     callbacks=[early, tensorboard])\n",
    "#绘制曲线\n",
    "plot_train_history(history)\n",
    "print (\"best validation accuracy: \", max(history.history['val_acc']))"
   ]
  },
  {
   "cell_type": "code",
   "execution_count": null,
   "metadata": {},
   "outputs": [],
   "source": [
    "#输出最高的准确率\n",
    "print (\"best validation accuracy: \", max(history.history['val_top_k_categorical_accuracy']))\n",
    "#绘制曲线\n",
    "plot_train_history(history)\n",
    "#保存模型\n",
    "model.save(\"emoji_lstm.h5\")"
   ]
  },
  {
   "cell_type": "code",
   "execution_count": null,
   "metadata": {},
   "outputs": [],
   "source": [
    "#在测试集上进行测试\n",
    "score = model.evaluate(x_test_sequences, y_test_idx, verbose = 0)\n",
    "#输出top5的准确率\n",
    "print('Test top5 accuracy:', score[2])"
   ]
  }
 ],
 "metadata": {
  "kernelspec": {
   "display_name": "Python 3",
   "language": "python",
   "name": "python3"
  },
  "language_info": {
   "codemirror_mode": {
    "name": "ipython",
    "version": 3
   },
   "file_extension": ".py",
   "mimetype": "text/x-python",
   "name": "python",
   "nbconvert_exporter": "python",
   "pygments_lexer": "ipython3",
   "version": "3.5.6"
  }
 },
 "nbformat": 4,
 "nbformat_minor": 2
}
